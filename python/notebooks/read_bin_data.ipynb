{
 "cells": [
  {
   "cell_type": "markdown",
   "id": "12c34e48-7ace-4476-8648-67e8a971c4ab",
   "metadata": {},
   "source": [
    "# Import Moduels"
   ]
  },
  {
   "cell_type": "code",
<<<<<<< Updated upstream
   "execution_count": null,
=======
   "execution_count": 22,
>>>>>>> Stashed changes
   "id": "8746dc8f-2bd3-49c3-a53b-9891e5f60c62",
   "metadata": {},
   "outputs": [],
   "source": [
    "import sys\n",
    "import os.path\n",
    "import numpy as np\n",
    "import time\n",
    "import random\n",
    "import array\n",
    "import matplotlib.pyplot as plt\n",
    "from ipyfilechooser import FileChooser\n",
    "\n",
    "import plotly.graph_objects as go\n"
   ]
  },
  {
   "cell_type": "markdown",
   "id": "114245bc-9bb7-4458-ad70-4c8995517e4c",
   "metadata": {},
   "source": [
    "# Load Data"
   ]
  },
  {
   "cell_type": "code",
   "execution_count": 23,
   "id": "39a96588-c6a4-452a-a936-fb2c0042fd7a",
   "metadata": {},
   "outputs": [
    {
     "data": {
      "application/vnd.jupyter.widget-view+json": {
       "model_id": "d6becd1b9ee64394a64f8054bcfc2cb8",
       "version_major": 2,
       "version_minor": 0
      },
      "text/plain": [
       "FileChooser(path='C:\\DEV\\AnimHost\\python\\notebooks', filename='', title='', show_hidden=False, select_desc='Se…"
      ]
     },
     "execution_count": 23,
     "metadata": {},
     "output_type": "execute_result"
    }
   ],
   "source": [
    "fc = FileChooser()\n",
    "fc"
   ]
  },
  {
   "cell_type": "code",
<<<<<<< Updated upstream
   "execution_count": null,
=======
   "execution_count": 24,
>>>>>>> Stashed changes
   "id": "71b9d966-3b42-4714-b071-2d481a494354",
   "metadata": {},
   "outputs": [],
   "source": [
    "binaryFile = fc.selected"
   ]
  },
  {
   "cell_type": "code",
<<<<<<< Updated upstream
   "execution_count": null,
=======
   "execution_count": 25,
>>>>>>> Stashed changes
   "id": "9c481dae-8e7b-4a78-bb20-23f41b8204ec",
   "metadata": {},
   "outputs": [],
   "source": [
    "numBones = 66 # Skeleton 100 Style\n",
    "dataType = 3 #Vector 3\n",
    "numFeatures = numBones * dataType"
   ]
  },
  {
   "cell_type": "code",
<<<<<<< Updated upstream
   "execution_count": null,
=======
   "execution_count": 26,
>>>>>>> Stashed changes
   "id": "3d11a606-12d3-4e35-a914-70329b331380",
   "metadata": {},
   "outputs": [],
   "source": [
    "bytesPerLine = numFeatures * 4 # num Features * float 32 (4 Bytes)\n",
    "data =[]"
   ]
  },
  {
   "cell_type": "code",
<<<<<<< Updated upstream
   "execution_count": null,
=======
   "execution_count": 27,
>>>>>>> Stashed changes
   "id": "dfdfb385-3175-420e-9a24-3ef97cc96b36",
   "metadata": {},
   "outputs": [],
   "source": [
    "frames = 2000 # Number of Frames to read"
   ]
  },
  {
   "cell_type": "code",
<<<<<<< Updated upstream
   "execution_count": null,
=======
   "execution_count": 28,
>>>>>>> Stashed changes
   "id": "fc099639-dd37-4522-87fb-632224f130fa",
   "metadata": {},
   "outputs": [],
   "source": [
    "with open(binaryFile, \"rb\") as f:\n",
    "    for i in np.arange(frames):\n",
    "        f.seek(i*bytesPerLine)\n",
    "        bytes = f.read(bytesPerLine)\n",
    "        data.append(np.float32(array.array('f',bytes)))"
   ]
  },
  {
   "cell_type": "code",
<<<<<<< Updated upstream
   "execution_count": null,
   "id": "d7c7c55f-0845-462d-8312-6f1dd9f9b7e7",
   "metadata": {},
   "outputs": [],
=======
   "execution_count": 29,
   "id": "d7c7c55f-0845-462d-8312-6f1dd9f9b7e7",
   "metadata": {},
   "outputs": [
    {
     "ename": "ValueError",
     "evalue": "cannot reshape array of size 36036 into shape (2000,newaxis)",
     "output_type": "error",
     "traceback": [
      "\u001b[1;31m---------------------------------------------------------------------------\u001b[0m",
      "\u001b[1;31mValueError\u001b[0m                                Traceback (most recent call last)",
      "Cell \u001b[1;32mIn[29], line 1\u001b[0m\n\u001b[1;32m----> 1\u001b[0m _dat \u001b[38;5;241m=\u001b[39m \u001b[43mnp\u001b[49m\u001b[38;5;241;43m.\u001b[39;49m\u001b[43mconcatenate\u001b[49m\u001b[43m(\u001b[49m\u001b[43mdata\u001b[49m\u001b[43m)\u001b[49m\u001b[38;5;241;43m.\u001b[39;49m\u001b[43mreshape\u001b[49m\u001b[43m(\u001b[49m\u001b[43mframes\u001b[49m\u001b[43m,\u001b[49m\u001b[38;5;241;43m-\u001b[39;49m\u001b[38;5;241;43m1\u001b[39;49m\u001b[43m)\u001b[49m\n\u001b[0;32m      2\u001b[0m _dat\u001b[38;5;241m.\u001b[39mshape\n",
      "\u001b[1;31mValueError\u001b[0m: cannot reshape array of size 36036 into shape (2000,newaxis)"
     ]
    }
   ],
>>>>>>> Stashed changes
   "source": [
    "_dat = np.concatenate(data).reshape(frames,-1)\n",
    "_dat.shape"
   ]
  },
  {
   "cell_type": "code",
<<<<<<< Updated upstream
   "execution_count": null,
   "id": "e376846c-8a7b-4fcd-8837-c7335d92fd58",
   "metadata": {},
   "outputs": [],
=======
   "execution_count": 20,
   "id": "e376846c-8a7b-4fcd-8837-c7335d92fd58",
   "metadata": {},
   "outputs": [
    {
     "ename": "NameError",
     "evalue": "name '_dat' is not defined",
     "output_type": "error",
     "traceback": [
      "\u001b[1;31m---------------------------------------------------------------------------\u001b[0m",
      "\u001b[1;31mNameError\u001b[0m                                 Traceback (most recent call last)",
      "Cell \u001b[1;32mIn[20], line 1\u001b[0m\n\u001b[1;32m----> 1\u001b[0m _data \u001b[38;5;241m=\u001b[39m \u001b[43m_dat\u001b[49m\u001b[38;5;241m.\u001b[39mreshape(frames\u001b[38;5;241m*\u001b[39mnumBones,\u001b[38;5;241m3\u001b[39m)\n\u001b[0;32m      2\u001b[0m _data\u001b[38;5;241m.\u001b[39mshape\n",
      "\u001b[1;31mNameError\u001b[0m: name '_dat' is not defined"
     ]
    }
   ],
>>>>>>> Stashed changes
   "source": [
    "_data = _dat.reshape(frames*numBones,3)\n",
    "_data.shape"
   ]
  },
  {
   "cell_type": "code",
<<<<<<< Updated upstream
   "execution_count": null,
   "id": "773d3c1f-260f-4b25-94f4-ffac4d113651",
   "metadata": {},
   "outputs": [],
=======
   "execution_count": 21,
   "id": "773d3c1f-260f-4b25-94f4-ffac4d113651",
   "metadata": {},
   "outputs": [
    {
     "ename": "NameError",
     "evalue": "name '_data' is not defined",
     "output_type": "error",
     "traceback": [
      "\u001b[1;31m---------------------------------------------------------------------------\u001b[0m",
      "\u001b[1;31mNameError\u001b[0m                                 Traceback (most recent call last)",
      "Cell \u001b[1;32mIn[21], line 5\u001b[0m\n\u001b[0;32m      1\u001b[0m layout \u001b[38;5;241m=\u001b[39m go\u001b[38;5;241m.\u001b[39mLayout(yaxis\u001b[38;5;241m=\u001b[39m\u001b[38;5;28mdict\u001b[39m(scaleanchor\u001b[38;5;241m=\u001b[39m\u001b[38;5;124m\"\u001b[39m\u001b[38;5;124mx\u001b[39m\u001b[38;5;124m\"\u001b[39m, scaleratio\u001b[38;5;241m=\u001b[39m\u001b[38;5;241m1\u001b[39m))\n\u001b[1;32m----> 5\u001b[0m fig \u001b[38;5;241m=\u001b[39m go\u001b[38;5;241m.\u001b[39mFigure(data\u001b[38;5;241m=\u001b[39m[go\u001b[38;5;241m.\u001b[39mScatter3d(x\u001b[38;5;241m=\u001b[39m\u001b[43m_data\u001b[49m[:,\u001b[38;5;241m0\u001b[39m], y\u001b[38;5;241m=\u001b[39m_data[:,\u001b[38;5;241m2\u001b[39m], z\u001b[38;5;241m=\u001b[39m_data[:,\u001b[38;5;241m1\u001b[39m],\n\u001b[0;32m      6\u001b[0m                                    mode\u001b[38;5;241m=\u001b[39m\u001b[38;5;124m'\u001b[39m\u001b[38;5;124mmarkers\u001b[39m\u001b[38;5;124m'\u001b[39m)])\n\u001b[0;32m      8\u001b[0m fig\u001b[38;5;241m.\u001b[39mupdate_traces(marker\u001b[38;5;241m=\u001b[39m\u001b[38;5;28mdict\u001b[39m(size\u001b[38;5;241m=\u001b[39m\u001b[38;5;241m2\u001b[39m,\n\u001b[0;32m      9\u001b[0m                               line\u001b[38;5;241m=\u001b[39m\u001b[38;5;28mdict\u001b[39m(width\u001b[38;5;241m=\u001b[39m\u001b[38;5;241m2\u001b[39m,\n\u001b[0;32m     10\u001b[0m                                         color\u001b[38;5;241m=\u001b[39m\u001b[38;5;124m'\u001b[39m\u001b[38;5;124mDarkSlateGrey\u001b[39m\u001b[38;5;124m'\u001b[39m)),\n\u001b[0;32m     11\u001b[0m                   selector\u001b[38;5;241m=\u001b[39m\u001b[38;5;28mdict\u001b[39m(mode\u001b[38;5;241m=\u001b[39m\u001b[38;5;124m'\u001b[39m\u001b[38;5;124mmarkers\u001b[39m\u001b[38;5;124m'\u001b[39m))\n\u001b[0;32m     13\u001b[0m fig\u001b[38;5;241m.\u001b[39mupdate_layout(scene_aspectmode\u001b[38;5;241m=\u001b[39m\u001b[38;5;124m'\u001b[39m\u001b[38;5;124mcube\u001b[39m\u001b[38;5;124m'\u001b[39m, scene_camera\u001b[38;5;241m=\u001b[39mcamera,\n\u001b[0;32m     14\u001b[0m         width\u001b[38;5;241m=\u001b[39m\u001b[38;5;241m900\u001b[39m, height\u001b[38;5;241m=\u001b[39m\u001b[38;5;241m900\u001b[39m,\n\u001b[0;32m     15\u001b[0m         margin\u001b[38;5;241m=\u001b[39m\u001b[38;5;28mdict\u001b[39m(t\u001b[38;5;241m=\u001b[39m\u001b[38;5;241m25\u001b[39m, r\u001b[38;5;241m=\u001b[39m\u001b[38;5;241m0\u001b[39m, l\u001b[38;5;241m=\u001b[39m\u001b[38;5;241m20\u001b[39m, b\u001b[38;5;241m=\u001b[39m\u001b[38;5;241m30\u001b[39m),\n\u001b[1;32m   (...)\u001b[0m\n\u001b[0;32m     18\u001b[0m             yaxis \u001b[38;5;241m=\u001b[39m \u001b[38;5;28mdict\u001b[39m(nticks\u001b[38;5;241m=\u001b[39m\u001b[38;5;241m4\u001b[39m, \u001b[38;5;28mrange\u001b[39m\u001b[38;5;241m=\u001b[39m[\u001b[38;5;241m-\u001b[39m\u001b[38;5;241m400\u001b[39m, \u001b[38;5;241m400\u001b[39m],),\n\u001b[0;32m     19\u001b[0m             zaxis \u001b[38;5;241m=\u001b[39m \u001b[38;5;28mdict\u001b[39m(nticks\u001b[38;5;241m=\u001b[39m\u001b[38;5;241m4\u001b[39m, \u001b[38;5;28mrange\u001b[39m\u001b[38;5;241m=\u001b[39m[\u001b[38;5;241m-\u001b[39m\u001b[38;5;241m50\u001b[39m, \u001b[38;5;241m750\u001b[39m],),),)\n",
      "\u001b[1;31mNameError\u001b[0m: name '_data' is not defined"
     ]
    }
   ],
>>>>>>> Stashed changes
   "source": [
    "layout = go.Layout(yaxis=dict(scaleanchor=\"x\", scaleratio=1))\n",
    "\n",
    "\n",
    "\n",
    "fig = go.Figure(data=[go.Scatter3d(x=_data[:4600,0], y=_data[:4600,2], z=_data[:4600,1],\n",
    "                                   mode='markers',\n",
    "                                  marker=dict(\n",
    "                                    size=12,\n",
    "                                    color='rgba(178, 215, 112,1)',                # set color to an array/list of desired values\n",
    "                                    opacity=1\n",
    "    ))])\n",
    "\n",
    "fig.update_traces(marker=dict(size=2,\n",
    "                              line=dict(width=2,\n",
    "                                        color='DarkSlateGrey')),\n",
    "                  selector=dict(mode='markers'))\n",
    "\n",
    "fig.update_layout(scene_aspectmode='cube',\n",
    "        width=1920/1.5, height=1080/1.5,\n",
    "        margin=dict(t=0, r=0, l=0, b=0),\n",
    "        scene = dict(\n",
    "            xaxis = dict(nticks=4, range=[-400,400], backgroundcolor=\"rgb(200, 200,200)\"),\n",
    "            yaxis = dict(nticks=4, range=[-400, 400], backgroundcolor=\"rgb(200, 200,200)\"),\n",
    "            zaxis = dict(nticks=4, range=[-50, 750], backgroundcolor=\"rgb(50, 50,50)\"),))\n",
    "fig.show()"
   ]
  },
  {
   "cell_type": "code",
   "execution_count": null,
   "id": "7fe18f90-64be-4457-8c24-8a001ccd62a0",
   "metadata": {},
   "outputs": [],
   "source": []
  }
 ],
 "metadata": {
  "kernelspec": {
   "display_name": "Python 3 (ipykernel)",
   "language": "python",
   "name": "python3"
  },
  "language_info": {
   "codemirror_mode": {
    "name": "ipython",
    "version": 3
   },
   "file_extension": ".py",
   "mimetype": "text/x-python",
   "name": "python",
   "nbconvert_exporter": "python",
   "pygments_lexer": "ipython3",
   "version": "3.10.12"
  }
 },
 "nbformat": 4,
 "nbformat_minor": 5
}
