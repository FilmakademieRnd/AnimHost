{
 "cells": [
  {
   "cell_type": "markdown",
   "id": "12c34e48-7ace-4476-8648-67e8a971c4ab",
   "metadata": {},
   "source": [
    "# Import Moduels"
   ]
  },
  {
   "cell_type": "code",
   "execution_count": null,
   "id": "8746dc8f-2bd3-49c3-a53b-9891e5f60c62",
   "metadata": {},
   "outputs": [],
   "source": [
    "import sys\n",
    "import os.path\n",
    "import numpy as np\n",
    "import time\n",
    "import random\n",
    "import array\n",
    "import matplotlib.pyplot as plt\n",
    "from ipyfilechooser import FileChooser\n",
    "\n",
    "import plotly.graph_objects as go\n"
   ]
  },
  {
   "cell_type": "markdown",
   "id": "114245bc-9bb7-4458-ad70-4c8995517e4c",
   "metadata": {},
   "source": [
    "# Load Data"
   ]
  },
  {
   "cell_type": "code",
   "execution_count": 3,
   "id": "39a96588-c6a4-452a-a936-fb2c0042fd7a",
   "metadata": {},
   "outputs": [
    {
     "data": {
      "application/vnd.jupyter.widget-view+json": {
       "model_id": "1e0cd571ddcb40c19d80eaff4ddc8e25",
       "version_major": 2,
       "version_minor": 0
      },
      "text/plain": [
       "FileChooser(path='C:\\DEV\\AnimHost\\python\\notebooks', filename='', title='', show_hidden=False, select_desc='Se…"
      ]
     },
     "execution_count": 3,
     "metadata": {},
     "output_type": "execute_result"
    }
   ],
   "source": [
    "fc = FileChooser()\n",
    "fc"
   ]
  },
  {
   "cell_type": "code",
   "execution_count": null,
   "id": "71b9d966-3b42-4714-b071-2d481a494354",
   "metadata": {},
   "outputs": [],
   "source": [
    "binaryFile = fc.selected"
   ]
  },
  {
   "cell_type": "code",
   "execution_count": null,
   "id": "9c481dae-8e7b-4a78-bb20-23f41b8204ec",
   "metadata": {},
   "outputs": [],
   "source": [
    "numBones = 28 # Skeleton 100 Style\n",
    "dataType = 3 #Vector 3\n",
    "numFeatures = numBones * dataType"
   ]
  },
  {
   "cell_type": "code",
   "execution_count": null,
   "id": "3d11a606-12d3-4e35-a914-70329b331380",
   "metadata": {},
   "outputs": [],
   "source": [
    "bytesPerLine = numFeatures * 4 # num Features * float 32 (4 Bytes)\n",
    "data =[]"
   ]
  },
  {
   "cell_type": "code",
   "execution_count": null,
   "id": "dfdfb385-3175-420e-9a24-3ef97cc96b36",
   "metadata": {},
   "outputs": [],
   "source": [
    "frames = 2000 # Number of Frames to read"
   ]
  },
  {
   "cell_type": "code",
   "execution_count": null,
   "id": "fc099639-dd37-4522-87fb-632224f130fa",
   "metadata": {},
   "outputs": [],
   "source": [
    "with open(binaryFile, \"rb\") as f:\n",
    "    for i in np.arange(frames):\n",
    "        f.seek(i*bytesPerLine)\n",
    "        bytes = f.read(bytesPerLine)\n",
    "        data.append(np.float32(array.array('f',bytes)))"
   ]
  },
  {
   "cell_type": "code",
   "execution_count": null,
   "id": "d7c7c55f-0845-462d-8312-6f1dd9f9b7e7",
   "metadata": {},
   "outputs": [],
   "source": [
    "_dat = np.concatenate(data).reshape(frames,-1)\n",
    "_dat.shape"
   ]
  },
  {
   "cell_type": "code",
   "execution_count": null,
   "id": "e376846c-8a7b-4fcd-8837-c7335d92fd58",
   "metadata": {},
   "outputs": [],
   "source": [
    "_data = _dat.reshape(frames*numBones,3)\n",
    "_data.shape"
   ]
  },
  {
   "cell_type": "code",
   "execution_count": null,
   "id": "773d3c1f-260f-4b25-94f4-ffac4d113651",
   "metadata": {},
   "outputs": [],
   "source": [
    "layout = go.Layout(yaxis=dict(scaleanchor=\"x\", scaleratio=1))\n",
    "\n",
    "\n",
    "\n",
    "fig = go.Figure(data=[go.Scatter3d(x=_data[:4600,0], y=_data[:4600,2], z=_data[:4600,1],\n",
    "                                   mode='markers',\n",
    "                                  marker=dict(\n",
    "                                    size=12,\n",
    "                                    color='rgba(178, 215, 112,1)',                # set color to an array/list of desired values\n",
    "                                    opacity=1\n",
    "    ))])\n",
    "\n",
    "fig.update_traces(marker=dict(size=2,\n",
    "                              line=dict(width=2,\n",
    "                                        color='DarkSlateGrey')),\n",
    "                  selector=dict(mode='markers'))\n",
    "\n",
    "fig.update_layout(scene_aspectmode='cube',\n",
    "        width=1920/1.5, height=1080/1.5,\n",
    "        margin=dict(t=0, r=0, l=0, b=0),\n",
    "        scene = dict(\n",
    "            xaxis = dict(nticks=4, range=[-400,400], backgroundcolor=\"rgb(200, 200,200)\"),\n",
    "            yaxis = dict(nticks=4, range=[-400, 400], backgroundcolor=\"rgb(200, 200,200)\"),\n",
    "            zaxis = dict(nticks=4, range=[-50, 750], backgroundcolor=\"rgb(50, 50,50)\"),))\n",
    "fig.show()"
   ]
  }
 ],
 "metadata": {
  "kernelspec": {
   "display_name": "Python 3 (ipykernel)",
   "language": "python",
   "name": "python3"
  },
  "language_info": {
   "codemirror_mode": {
    "name": "ipython",
    "version": 3
   },
   "file_extension": ".py",
   "mimetype": "text/x-python",
   "name": "python",
   "nbconvert_exporter": "python",
   "pygments_lexer": "ipython3",
   "version": "3.10.12"
  }
 },
 "nbformat": 4,
 "nbformat_minor": 5
}
