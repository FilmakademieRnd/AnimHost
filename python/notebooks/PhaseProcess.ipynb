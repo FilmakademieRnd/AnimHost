{
 "cells": [
  {
   "cell_type": "markdown",
   "id": "c8ae14f9-a4a8-427a-8f2d-c9135a064cf3",
   "metadata": {},
   "source": [
    "# Process Data"
   ]
  },
  {
   "cell_type": "code",
   "execution_count": null,
   "id": "550e867e-acd2-4a63-80df-c29a47413625",
   "metadata": {},
   "outputs": [],
   "source": [
    "import numpy as np\n",
    "import pandas as pd\n",
    "import struct\n",
    "import array\n",
    "import plotly.express as px\n",
    "import plotly.graph_objects as go\n",
    "import math\n",
    "import time"
   ]
  },
  {
   "cell_type": "code",
   "execution_count": null,
   "id": "2c3c4e05-856f-445b-ac3a-7e200dedd1b8",
   "metadata": {},
   "outputs": [],
   "source": [
    "import onnx"
   ]
  },
  {
   "cell_type": "code",
   "execution_count": null,
   "id": "870dbad1-0070-4382-990e-36685d20d9a9",
   "metadata": {},
   "outputs": [],
   "source": [
    "import onnxruntime"
   ]
  },
  {
   "cell_type": "code",
   "execution_count": null,
   "id": "f122fd1b-6196-4bfa-bd33-900c82de105f",
   "metadata": {},
   "outputs": [],
   "source": [
    "pd.options.display.max_columns = None"
   ]
  },
  {
   "cell_type": "code",
   "execution_count": null,
   "id": "938eaecb-f4e2-4686-8ef0-c37e0d978d4a",
   "metadata": {},
   "outputs": [],
   "source": [
    "NUM_PHASE_CHANNEL = 5"
   ]
  },
  {
   "cell_type": "code",
   "execution_count": null,
   "id": "3501276e-2689-49c9-acc2-af0ecf932bc6",
   "metadata": {},
   "outputs": [],
   "source": [
    "def ReadBinary(binaryFile, sampleCount, featureCount):\n",
    "    bytesPerLine = featureCount*4\n",
    "    data = []\n",
    "    with open(binaryFile, \"rb\") as f:\n",
    "        for i in np.arange(sampleCount):\n",
    "            if i % max(int(sampleCount / 10),1) == 0:\n",
    "                print('Reading binary ' + binaryFile + '...', round(100 * i / sampleCount, 2), \"%\", end=\"\\r\")\n",
    "            f.seek(i*bytesPerLine)\n",
    "            bytes = f.read(bytesPerLine)\n",
    "            floats = struct.unpack('f' * (len(bytes) // struct.calcsize('f')), bytes)\n",
    "\n",
    "            data.append(np.float32(array.array('f', floats)))\n",
    "    print('Reading binary ' + binaryFile + '...', 100, \"%\", end=\"\\r\")\n",
    "    print(\"\")\n",
    "    return np.concatenate(data).reshape(sampleCount, -1)"
   ]
  },
  {
   "cell_type": "code",
   "execution_count": null,
   "id": "2d2bbca8-18fb-4430-a75b-39153e976737",
   "metadata": {},
   "outputs": [],
   "source": [
    "def read_csv_style_data(file_path, delimiter=' ', dtype='float32'):\n",
    "    \"\"\"\n",
    "    Read CSV-style data from a file into a NumPy array.\n",
    "\n",
    "    Parameters:\n",
    "    - file_path: str, path to the file containing the data.\n",
    "    - delimiter: str, the delimiter used in the data (default is space).\n",
    "\n",
    "    Returns:\n",
    "    - data_array: np.ndarray, the NumPy array containing the data.\n",
    "    \"\"\"\n",
    "    try:\n",
    "        data_array = np.genfromtxt(file_path, delimiter=delimiter,dtype=None, encoding=None)\n",
    "        return data_array\n",
    "    except Exception as e:\n",
    "        print(f\"Error reading data from {file_path}: {e}\")\n",
    "        return None\n"
   ]
  },
  {
   "cell_type": "code",
   "execution_count": null,
   "id": "f42af8da-f538-4b45-aef6-930bd0eb580c",
   "metadata": {},
   "outputs": [],
   "source": [
    "def read_csv_data(file_path, delimiter=' '):\n",
    "    \"\"\"\n",
    "    Read CSV data from a file into a pandas DataFrame.\n",
    "\n",
    "    Parameters:\n",
    "    - file_path: str, path to the file containing the data.\n",
    "    - delimiter: str, the delimiter used in the data (default is space).\n",
    "\n",
    "    Returns:\n",
    "    - data_frame: pd.DataFrame, the pandas DataFrame containing the data.\n",
    "    \"\"\"\n",
    "    try:\n",
    "        data_frame = pd.read_csv(file_path, delimiter=delimiter, header=None)\n",
    "        return data_frame\n",
    "    except Exception as e:\n",
    "        print(f\"Error reading data from {file_path}: {e}\")\n",
    "        return None"
   ]
  },
  {
   "cell_type": "code",
   "execution_count": null,
   "id": "6ccdc64b-c9ae-45d9-a286-b9a1ed5a77ea",
   "metadata": {},
   "outputs": [],
   "source": [
    "#calc phase 2d\n",
    "def calc_2d_phase(phases, amplitudes):\n",
    "\n",
    "    phases *= 2.0 * np.pi\n",
    "    sin_values = np.sin(phases)\n",
    "    cos_values = np.cos(phases)\n",
    "    phase_2d = np.column_stack((sin_values, cos_values))\n",
    "    phase_2d *= amplitudes[:, np.newaxis]\n",
    "    return phase_2d\n",
    "\n",
    "def calc_stuff(row):\n",
    "    pv = row[['PhaseValue1', 'PhaseValue2', 'PhaseValue3', 'PhaseValue4', 'PhaseValue5']].to_numpy().astype(float)\n",
    "    amps = row[['PhaseAmp1', 'PhaseAmp2', 'PhaseAmp3', 'PhaseAmp4', 'PhaseAmp5']].to_numpy().astype(float)\n",
    "    p_2d = calc_2d_phase(pv, amps)\n",
    "    return p_2d\n",
    "    \n",
    "    \n",
    "#calc update delta phase"
   ]
  },
  {
   "cell_type": "code",
   "execution_count": null,
   "id": "c03c4f39-fd94-412b-8b9a-f0f96a816f38",
   "metadata": {},
   "outputs": [],
   "source": [
    "IN_FEATURES = 364\n",
    "NUM_SAMPLES = 75266"
   ]
  },
  {
   "cell_type": "code",
   "execution_count": null,
   "id": "a2f6b1a4-f005-4bc1-a1ca-a6c598bc4b20",
   "metadata": {},
   "outputs": [],
   "source": [
    "data =ReadBinary(r\"C:\\DEV\\DATASETS\\100STYLE_Preprocessed\\data_x.bin\", 75266, 364)\n",
    "print(data.dtype)\n",
    "data.shape"
   ]
  },
  {
   "cell_type": "code",
   "execution_count": null,
   "id": "40a06611-350f-4d7c-8478-f77306903b07",
   "metadata": {},
   "outputs": [],
   "source": [
    "#Check for nan in input data (generated by animhost)\n",
    "nan_indices = np.where(np.isnan(data[-1]))\n",
    "if len(nan_indices[0]) > 0:\n",
    "    print(\"Array contains NaN values at indices:\")\n",
    "    for i in range(len(nan_indices[0])):\n",
    "        print(f\"  Row: {nan_indices[0][i]}\")\n",
    "else:\n",
    "    print(\"Array does not contain NaN values.\")"
   ]
  },
  {
   "cell_type": "code",
   "execution_count": null,
   "id": "131bde2b-8bc1-47df-a618-42989772398a",
   "metadata": {},
   "outputs": [],
   "source": [
    "phaseData = read_csv_style_data(r\"C:\\DEV\\AI4Animation\\AI4Animation\\SIGGRAPH_2022\\PyTorch\\PAE\\Training\\Parameters_10.txt\")"
   ]
  },
  {
   "cell_type": "code",
   "execution_count": null,
   "id": "ff11077e-1f5e-428b-bf69-a57fa84b5c52",
   "metadata": {},
   "outputs": [],
   "source": [
    "sequence = read_csv_data(r\"C:\\DEV\\AI4Animation\\AI4Animation\\SIGGRAPH_2022\\PyTorch\\PAE\\Dataset\\Sequences.txt\")"
   ]
  },
  {
   "cell_type": "code",
   "execution_count": null,
   "id": "10597c51-1b49-4be6-b9f0-bf37be7de339",
   "metadata": {},
   "outputs": [],
   "source": [
    "sequence.columns = [\"SeqId\",\"Frame\",\"Type\", \"File\",\"SeqUUID\"]\n",
    "sequence"
   ]
  },
  {
   "cell_type": "code",
   "execution_count": null,
   "id": "65f54732-e478-496a-8598-506202f3214d",
   "metadata": {},
   "outputs": [],
   "source": [
    "header = []\n",
    "[header.append(f\"PhaseValue{i+1}\") for i in range(NUM_PHASE_CHANNEL)]\n",
    "[header.append(f\"PhaseFreq{i+1}\") for i in range(NUM_PHASE_CHANNEL)]\n",
    "[header.append(f\"PhaseAmp{i+1}\") for i in range(NUM_PHASE_CHANNEL)]\n",
    "[header.append(f\"PhaseOff{i+1}\") for i in range(NUM_PHASE_CHANNEL)]\n",
    "\n",
    "phaseData = pd.DataFrame(phaseData, columns=header)\n",
    "phaseData = pd.concat([sequence, phaseData], axis=1)"
   ]
  },
  {
   "cell_type": "code",
   "execution_count": null,
   "id": "823ead29-2379-4be2-96e9-6a6e3560a6af",
   "metadata": {},
   "outputs": [],
   "source": [
    "df_phase_values = np.vstack(phaseData.apply(lambda row: calc_stuff(row), axis=1).to_numpy())\n",
    "print(df_phase_values.shape)\n",
    "df_phase_values = np.reshape(df_phase_values, (phaseData.shape[0], NUM_PHASE_CHANNEL * 2))\n",
    "print(df_phase_values.shape)"
   ]
  },
  {
   "cell_type": "code",
   "execution_count": null,
   "id": "a951cfc3-ca95-4886-be2d-631f57d37e5d",
   "metadata": {},
   "outputs": [],
   "source": [
    "columns = [f\"Phase2D_X_{i+1}\" for i in range(NUM_PHASE_CHANNEL)] + [f\"Phase2D_Y_{i+1}\" for i in range(NUM_PHASE_CHANNEL)]\n",
    "\n",
    "# Create a flattened list with X followed by Y\n",
    "flattened_columns = [column for pair in zip(columns[:NUM_PHASE_CHANNEL], columns[NUM_PHASE_CHANNEL:]) for column in pair]\n",
    "flattened_columns"
   ]
  },
  {
   "cell_type": "code",
   "execution_count": null,
   "id": "68c15f1d-29bb-4a48-86ed-ca8edc67951f",
   "metadata": {},
   "outputs": [],
   "source": [
    "df2DPhaseValues = pd.DataFrame(df_phase_values, columns=flattened_columns)\n",
    "df2DPhaseValues"
   ]
  },
  {
   "cell_type": "code",
   "execution_count": null,
   "id": "0a29e1e2-3c73-4d9a-bf41-95a9fc55a8e5",
   "metadata": {},
   "outputs": [],
   "source": [
    "dfPhaseData = pd.concat([phaseData, df2DPhaseValues], axis=1)\n",
    "dfPhaseData"
   ]
  },
  {
   "cell_type": "code",
   "execution_count": null,
   "id": "b60a4a15-1d8b-4ed2-a5ed-f2a69290888e",
   "metadata": {},
   "outputs": [],
   "source": [
    "#Read InputData\n",
    "labels =read_csv_data(r\"C:\\DEV\\DATASETS\\100STYLE_Preprocessed\\metadata.txt\",\",\")\n",
    "row = labels.iloc[0]\n",
    "start= 1\n",
    "end= 365\n",
    "label_input = []\n",
    "[label_input.append(row.iloc[i]) for i in range(start,end)]\n",
    "dfInputData = pd.DataFrame(data, columns=label_input)\n",
    "\n",
    "seqInputData = read_csv_data(r\"C:\\DEV\\DATASETS\\100STYLE_Preprocessed\\sequences_mann.txt\")\n",
    "seqInputData.columns = [\"SeqId\",\"Frame\",\"Type\", \"File\",\"SeqUUID\"]\n",
    "dfInputData = pd.concat([seqInputData, dfInputData], axis=1)"
   ]
  },
  {
   "cell_type": "code",
   "execution_count": null,
   "id": "44e232ec-a14c-4313-8738-7a6d77e03c3c",
   "metadata": {},
   "outputs": [],
   "source": [
    "dfInputData.columns"
   ]
  },
  {
   "cell_type": "code",
   "execution_count": null,
   "id": "f6ee56ba-a816-48d5-a072-502667ad96f3",
   "metadata": {},
   "outputs": [],
   "source": [
    "def get_window_values(row, phaseValues, selected_columns, window_size=1):\n",
    "    seq_id,frame  = row.name\n",
    "    start_frame = max(0, frame - window_size)\n",
    "    end_frame = frame + window_size \n",
    "\n",
    "    window = phaseValues.loc[(seq_id,start_frame):(seq_id,end_frame)]\n",
    "    if frame % 100 == 0:\n",
    "        print(f\"Progress: {seq_id}/{frame}\", end='\\r')\n",
    "    return window[selected_columns].values.flatten()"
   ]
  },
  {
   "cell_type": "code",
   "execution_count": null,
   "id": "a0a9e150-9516-4e95-9d18-e0ef63d2434c",
   "metadata": {},
   "outputs": [],
   "source": [
    "dfPhaseData.set_index(['SeqId', 'Frame'], inplace=True)\n",
    "dfInputData.set_index(['SeqId', 'Frame'], inplace=True)"
   ]
  },
  {
   "cell_type": "code",
   "execution_count": null,
   "id": "bb2c497e-36ed-4a83-805a-325da0047c99",
   "metadata": {
    "scrolled": true
   },
   "outputs": [],
   "source": [
    "selected_columns = [col for col in dfPhaseData.columns if \"Phase2D_\" in col]\n",
    "out = dfInputData.apply(get_window_values, args=(dfPhaseData, selected_columns, 6), axis=1)\n"
   ]
  },
  {
   "cell_type": "code",
   "execution_count": null,
   "id": "41adee8c-7b29-4ef9-8967-ee79700832ff",
   "metadata": {},
   "outputs": [],
   "source": [
    "out.values[1].shape"
   ]
  },
  {
   "cell_type": "code",
   "execution_count": null,
   "id": "3718ab19-910e-4801-9cf9-da652f520b65",
   "metadata": {},
   "outputs": [],
   "source": [
    "dfInputDataMrg = pd.merge(dfInputData, out.to_frame(), on=['SeqId','Frame'],how='inner')\n",
    "dfInputDataMrg.rename(columns={0: 'PhaseSpace'}, inplace=True)\n",
    "df_expanded = dfInputDataMrg['PhaseSpace'].apply(pd.Series)\n",
    "df_expanded.columns = [f\"PhaseSpace-{i+1}\" for i in range(out.values[0].shape[0])]"
   ]
  },
  {
   "cell_type": "code",
   "execution_count": null,
   "id": "e6219832-5643-48a9-8f5d-fe8555229a5f",
   "metadata": {},
   "outputs": [],
   "source": [
    "df_expanded"
   ]
  },
  {
   "cell_type": "code",
   "execution_count": null,
   "id": "46a20c84-1cb3-4c89-8aef-257dd9e2bbf4",
   "metadata": {},
   "outputs": [],
   "source": [
    "dfInputDataExp = pd.concat([dfInputDataMrg, df_expanded], axis=1)\n",
    "dfInputDataExp.drop('PhaseSpace', axis=1, inplace=True)"
   ]
  },
  {
   "cell_type": "code",
   "execution_count": null,
   "id": "6fd545db-8536-48a1-9ffa-2d629e122aa2",
   "metadata": {},
   "outputs": [],
   "source": [
    "dfInputDataExp"
   ]
  },
  {
   "cell_type": "code",
   "execution_count": null,
   "id": "d076d85e-e4cc-44eb-b405-740b53d6c1f5",
   "metadata": {
    "scrolled": true
   },
   "outputs": [],
   "source": [
    "fig = go.Figure()\n",
    "\n",
    "# Extract columns that start with 'PhaseSpace-'\n",
    "phasespace_columns = [col for col in dfInputDataExp.columns if col.startswith('PhaseSpace-')]\n",
    "# Filter even and odd indices based on numerical part of column names\n",
    "even_indices = [col for col in phasespace_columns if int(col.split('-')[-1]) % 2 == 0]\n",
    "odd_indices = [col for col in phasespace_columns if int(col.split('-')[-1]) % 2 != 0]\n",
    "\n",
    "for step in range(30):\n",
    "    row = dfInputDataExp.iloc[step]\n",
    "    \n",
    "    # Extract values based on even and odd indices\n",
    "    p_y = row[even_indices].values.flatten()\n",
    "    p_x = row[odd_indices].values.flatten()\n",
    "\n",
    "    fig.add_trace(\n",
    "            go.Scatter(\n",
    "                visible=False,\n",
    "                mode='markers',\n",
    "                name=\"𝜈 = \" + str(step),\n",
    "                x=p_x,\n",
    "                y=p_y))\n",
    "    \n",
    "fig.data[0].visible = True\n",
    "\n",
    "steps = []\n",
    "for i in range(len(fig.data)):\n",
    "    step = dict(\n",
    "        method=\"update\",\n",
    "        args=[{\"visible\": [False] * len(fig.data)},\n",
    "              {\"title\": \"Step: \" + str(i)}],  # layout attribute\n",
    "    )\n",
    "    step[\"args\"][0][\"visible\"][i] = True  # Toggle i'th trace to \"visible\"\n",
    "    steps.append(step)\n",
    "\n",
    "sliders = [dict(\n",
    "    active=10,\n",
    "    steps=steps\n",
    ")]\n",
    "\n",
    "fig.update_layout(\n",
    "    sliders=sliders\n",
    ")\n",
    "fig.update_scenes(aspectmode='cube',aspectratio=dict(x=1, y=1))\n",
    "\n",
    "fig.update_layout(\n",
    "    title = \"2D Phase Vector (12 Frame Window)\",\n",
    "    xaxis=dict(range=[-5, 5]), \n",
    "    yaxis=dict(range=[-5, 5]),  \n",
    "    autosize=False,\n",
    "    width=500,\n",
    "    height=600,\n",
    "    margin=dict(\n",
    "        l=50,\n",
    "        r=50,\n",
    "        b=100,\n",
    "        t=100,\n",
    "        pad=4\n",
    "    ),\n",
    ")\n",
    "\n",
    "fig.show()"
   ]
  },
  {
   "cell_type": "code",
   "execution_count": null,
   "id": "a53a101f-9794-4d41-bea5-f6f8fc3f79a9",
   "metadata": {},
   "outputs": [],
   "source": [
    "fig.write_html(\"file_phase.html\", include_plotlyjs=False)"
   ]
  },
  {
   "cell_type": "markdown",
   "id": "c39a0421-f265-455a-8d71-f9f5ebd6a19c",
   "metadata": {},
   "source": [
    "### Build Output Features"
   ]
  },
  {
   "cell_type": "code",
   "execution_count": null,
   "id": "9f99f8f0-c475-420e-9ac0-11d402a76506",
   "metadata": {},
   "outputs": [],
   "source": [
    "OUT_FEATURES = 319\n",
    "NUM_SAMPLES = 75266"
   ]
  },
  {
   "cell_type": "code",
   "execution_count": null,
   "id": "7b02fc27-f365-4b9d-8e94-10c4b0a95786",
   "metadata": {},
   "outputs": [],
   "source": [
    "data_out =ReadBinary(r\"C:\\DEV\\DATASETS\\100STYLE_Preprocessed\\data_y.bin\", 75266, 319)"
   ]
  },
  {
   "cell_type": "code",
   "execution_count": null,
   "id": "8e271965-e414-4347-8e89-d46f66935612",
   "metadata": {},
   "outputs": [],
   "source": [
    "labels =read_csv_data(r\"C:\\DEV\\DATASETS\\100STYLE_Preprocessed\\metadata.txt\",\",\")\n",
    "row = labels.iloc[1]"
   ]
  },
  {
   "cell_type": "code",
   "execution_count": null,
   "id": "48449bf3-8072-4aa7-9a9a-3eb8ce9fe3c6",
   "metadata": {},
   "outputs": [],
   "source": [
    "labels =read_csv_data(r\"C:\\DEV\\DATASETS\\100STYLE_Preprocessed\\metadata.txt\",\",\")\n",
    "row = labels.iloc[1]\n",
    "start= 1\n",
    "label_output = []\n",
    "[label_output.append(row.iloc[i]) for i in range(start,OUT_FEATURES +1)]\n",
    "dfOutputData = pd.DataFrame(data_out, columns=label_output)\n",
    "\n",
    "seqOutData = read_csv_data(r\"C:\\DEV\\DATASETS\\100STYLE_Preprocessed\\sequences_mann.txt\")\n",
    "seqOutData.columns = [\"SeqId\",\"Frame\",\"Type\", \"File\",\"SeqUUID\"]\n",
    "dfOutputData = pd.concat([seqOutData, dfOutputData], axis=1)"
   ]
  },
  {
   "cell_type": "code",
   "execution_count": null,
   "id": "1091420b-bf13-4446-9772-885c17b5f9c3",
   "metadata": {},
   "outputs": [],
   "source": [
    "dfOutputData"
   ]
  },
  {
   "cell_type": "code",
   "execution_count": null,
   "id": "50d1d4a5-64dc-499f-ac69-87feacfc0e3d",
   "metadata": {},
   "outputs": [],
   "source": [
    "pd.options.display.max_columns = None"
   ]
  },
  {
   "cell_type": "code",
   "execution_count": null,
   "id": "b1425394-88c5-4f97-bfbd-1ac4160beabc",
   "metadata": {},
   "outputs": [],
   "source": [
    "dfPhaseData.set_index(['SeqId', 'Frame'], inplace=True)\n",
    "dfOutputData.set_index(['SeqId', 'Frame'], inplace=True)"
   ]
  },
  {
   "cell_type": "code",
   "execution_count": null,
   "id": "3c58ada5-9abe-417a-8b2a-04b2e5b13378",
   "metadata": {},
   "outputs": [],
   "source": [
    "select_phase2d = [col for col in dfPhaseData.columns if \"Phase2D_\" in col]\n",
    "select_amplitude = [col for col in dfPhaseData.columns if \"PhaseAmp\" in col]\n",
    "select_freq = [col for col in dfPhaseData.columns if \"PhaseFreq\" in col]\n",
    "select_combined = select_phase2d + select_amplitude + select_freq"
   ]
  },
  {
   "cell_type": "code",
   "execution_count": null,
   "id": "97492b3a-1a1a-43f8-84a9-c54ffd226333",
   "metadata": {},
   "outputs": [],
   "source": [
    "def get_window_values_future(row, phaseValues, selected_columns, window_size=6):\n",
    "    seq_id,frame  = row.name\n",
    "    start_frame = frame+1\n",
    "    end_frame = frame + window_size\n",
    "\n",
    "    window = phaseValues.loc[(seq_id,start_frame):(seq_id,end_frame)]\n",
    "    if frame % 100 == 0:\n",
    "        print(f\"Progress: {seq_id}/{frame}\", end='\\r')\n",
    "    return window[selected_columns].values.flatten()"
   ]
  },
  {
   "cell_type": "code",
   "execution_count": null,
   "id": "0c3aa443-1a78-42e1-9caa-4672dc2af3ad",
   "metadata": {},
   "outputs": [],
   "source": [
    "out = dfInputData.apply(get_window_values_future, args=(dfPhaseData, select_combined, 6), axis=1)\n",
    "out.values[1].shape"
   ]
  },
  {
   "cell_type": "code",
   "execution_count": null,
   "id": "6ffb923d-a92c-49b3-af45-1c4283aca479",
   "metadata": {},
   "outputs": [],
   "source": [
    "dfOutDataMrg = pd.merge(dfOutputData, out.to_frame(), on=['SeqId','Frame'],how='inner')\n",
    "dfOutDataMrg.rename(columns={0: 'PhaseUpdate'}, inplace=True)\n",
    "dfOutPhaseUpdate = dfOutDataMrg['PhaseUpdate'].apply(pd.Series)\n",
    "dfOutPhaseUpdate.columns = [f\"PhaseUpdate-{i+1}\" for i in range(out.values[0].shape[0])]"
   ]
  },
  {
   "cell_type": "code",
   "execution_count": null,
   "id": "d351622f-e7ff-4b79-bb81-d674d8dfad29",
   "metadata": {},
   "outputs": [],
   "source": [
    "dfOutPhaseUpdate"
   ]
  },
  {
   "cell_type": "code",
   "execution_count": null,
   "id": "72c07135-9993-4dd6-a113-e07a94828dfd",
   "metadata": {},
   "outputs": [],
   "source": [
    "dfOutDataExp = pd.concat([dfOutDataMrg, dfOutPhaseUpdate], axis=1)\n",
    "dfOutDataExp.drop('PhaseUpdate', axis=1, inplace=True)"
   ]
  },
  {
   "cell_type": "code",
   "execution_count": null,
   "id": "b9d1a013-21e5-4f3b-b11c-f132430f5cd3",
   "metadata": {},
   "outputs": [],
   "source": [
    "\n",
    "dfOutDataExp"
   ]
  },
  {
   "cell_type": "markdown",
   "id": "e0bd3c19-7488-413d-8da7-6c694dff2765",
   "metadata": {},
   "source": [
    "## Export Data"
   ]
  },
  {
   "cell_type": "code",
   "execution_count": null,
   "id": "1d586f17-0413-43c2-bb5b-7bdaefb9d446",
   "metadata": {},
   "outputs": [],
   "source": [
    "IN = dfInputDataExp.drop([\"Type\", \"File\",\"SeqUUID\"], axis=1)\n",
    "folder = \"../data/\"\n",
    "\n",
    "# Convert DataFrame to a flat float array\n",
    "flat_in = array.array('d', IN.to_numpy(dtype=np.float32).flatten())\n",
    "\n",
    "IN_mn =  IN.mean().to_numpy(dtype=np.float32).flatten()\n",
    "IN_std =  IN.std().replace(0, 1).to_numpy(dtype=np.float32).flatten()\n",
    "\n",
    "# Save the array to a binary file\n",
    "with open(folder +'Input.bin', 'wb') as file:\n",
    "    s = struct.pack('f'*len(flat_in), *flat_in)\n",
    "    file.write(s)\n",
    "\n",
    "with open(folder +'InputLabels.txt', 'w') as file:\n",
    "    for idx, col in enumerate(IN.columns):\n",
    "        file.write(f\"[{idx}] {col}\\n\")\n",
    "\n",
    "with open(folder +'InputShape.txt', 'w') as file:\n",
    "    file.write(f\"{len(IN)}\\n{len(IN.columns)}\")\n",
    "\n",
    "with open(folder +'InputNormalization.txt', 'w') as file:\n",
    "    file.write(\" \".join(map(str, IN_mn)) + \"\\n\")\n",
    "    file.write(\" \".join(map(str, IN_std)) + \"\\n\")\n"
   ]
  },
  {
   "cell_type": "code",
   "execution_count": null,
   "id": "2e3b133b-2824-45bf-8aee-57717bfb8544",
   "metadata": {},
   "outputs": [],
   "source": [
    "OUT = dfOutDataExp.drop([\"SeqId\",\"Frame\",\"Type\", \"File\",\"SeqUUID\"], axis=1)\n",
    "\n",
    "flat_out = array.array('d', OUT.to_numpy(dtype=np.float32).flatten())\n",
    "\n",
    "OUT_mn =  OUT.mean().to_numpy(dtype=np.float32).flatten()\n",
    "OUT_std =  OUT.std().replace(0, 1).to_numpy(dtype=np.float32).flatten()\n",
    "\n",
    "# Save the array to a binary file\n",
    "with open(folder +'Output.bin', 'wb') as file:\n",
    "    s = struct.pack('f'*len(flat_out), *flat_out)\n",
    "    file.write(s)\n",
    "\n",
    "with open(folder +'OutputLabels.txt', 'w') as file:\n",
    "    for idx, col in enumerate(OUT.columns):\n",
    "        file.write(f\"[{idx}] {col}\\n\")\n",
    "\n",
    "with open(folder +'OutputShape.txt', 'w') as file:\n",
    "    file.write(f\"{len(OUT)}\\n{len(OUT.columns)}\")\n",
    "\n",
    "with open(folder +'OutputNormalization.txt', 'w') as file:\n",
    "    file.write(\" \".join(map(str, OUT_mn)) + \"\\n\")\n",
    "    file.write(\" \".join(map(str, OUT_std)) + \"\\n\")\n"
   ]
  },
  {
   "cell_type": "code",
   "execution_count": null,
   "id": "fba3f661-b370-415d-b309-292896dcf3c9",
   "metadata": {},
   "outputs": [],
   "source": [
    "mn =  IN.mean()\n",
    "std =  IN.std().replace(0, 1)\n",
    "print(mn)\n",
    "with open('fabulous_stats.txt', 'w') as file:\n",
    "    file.write(\" \".join(map(str, mn)) + \"\\n\")\n",
    "    file.write(\" \".join(map(str, std)) + \"\\n\")"
   ]
  },
  {
   "cell_type": "code",
   "execution_count": null,
   "id": "fd8306e1-4c6f-46bb-aae1-8c7f1fdf4750",
   "metadata": {},
   "outputs": [],
   "source": [
    "IN"
   ]
  },
  {
   "cell_type": "code",
   "execution_count": null,
   "id": "11e1d957-d443-45fb-aa5a-9549c4de68f7",
   "metadata": {},
   "outputs": [],
   "source": [
    "IN.style.set_table_styles([\n",
    "    {'selector': 'div',\n",
    "     'props': [('max-width', '800px'), ('overflow-x', 'auto')]}\n",
    "])\n",
    "IN.iloc[:3]"
   ]
  },
  {
   "cell_type": "code",
   "execution_count": null,
   "id": "26869114-72e6-4436-80d0-072a291fc484",
   "metadata": {},
   "outputs": [],
   "source": []
  },
  {
   "cell_type": "code",
   "execution_count": null,
   "id": "57841b52-8e88-466e-955a-cb348bad67d0",
   "metadata": {},
   "outputs": [],
   "source": [
    "IN.iloc[:3]"
   ]
  },
  {
   "cell_type": "markdown",
   "id": "931402fa-7f30-4ab3-aa0b-3ed1b1574894",
   "metadata": {},
   "source": [
    "## Inference"
   ]
  },
  {
   "cell_type": "code",
   "execution_count": null,
   "id": "558356f2-491a-4ae2-bdc0-0e2d27ffc9e7",
   "metadata": {},
   "outputs": [],
   "source": [
    "model_path = r\"C:\\DEV\\AI4Animation\\AI4Animation\\SIGGRAPH_2022\\PyTorch\\GNN\\Training\\144.onnx\""
   ]
  },
  {
   "cell_type": "code",
   "execution_count": null,
   "id": "be788d1e-cffc-46bd-ba82-29606c51dcf1",
   "metadata": {},
   "outputs": [],
   "source": [
    "#onnx setup\n",
    "session = onnxruntime.InferenceSession(model_path)\n",
    "inputs = session.get_inputs()\n",
    "outputs = session.get_outputs()"
   ]
  },
  {
   "cell_type": "code",
   "execution_count": null,
   "id": "47b549c0-03d2-4f5f-868a-ebba9c56d698",
   "metadata": {},
   "outputs": [],
   "source": [
    "[print(f\"{n.name},{n.shape}\") for n in inputs]\n",
    "[print(n.name) for n in outputs]\n",
    "\"ok\""
   ]
  },
  {
   "cell_type": "code",
   "execution_count": null,
   "id": "f445ed2a-2110-460e-8c84-4c626074ca99",
   "metadata": {},
   "outputs": [],
   "source": [
    "xin = IN.iloc[17000].to_numpy(dtype=np.float32).reshape(1,-1)\n",
    "xin.shape"
   ]
  },
  {
   "cell_type": "code",
   "execution_count": null,
   "id": "7f89635d-e13b-413f-a619-cc5ca258f2c4",
   "metadata": {},
   "outputs": [],
   "source": [
    "# Time before code execution\n",
    "start_time = time.time()\n",
    "\n",
    "# Your fabulous code goes here\n",
    "result = session.run([\"Y\",\"W\"], {\"X\" : xin})\n",
    "\n",
    "# Time after code execution\n",
    "end_time = time.time()\n",
    "delta_time = end_time - start_time\n",
    "print(f\"Code execution took {delta_time:.4f} seconds. Werk it, queen!\")"
   ]
  },
  {
   "cell_type": "code",
   "execution_count": null,
   "id": "e21c2c74-d6bb-4aab-a15b-ec2d6524f477",
   "metadata": {},
   "outputs": [],
   "source": [
    "yout = result[0]\n",
    "yout.shape"
   ]
  },
  {
   "cell_type": "code",
   "execution_count": null,
   "id": "fb72d01b-1015-4200-99e9-611cb639ed3b",
   "metadata": {},
   "outputs": [],
   "source": [
    "dfOutDataExp.columns[5:]"
   ]
  },
  {
   "cell_type": "code",
   "execution_count": null,
   "id": "b307cf17-fa91-41ec-a517-1f8bc1565ad4",
   "metadata": {},
   "outputs": [],
   "source": [
    "dfInfRes = pd.DataFrame(yout, columns=dfOutDataExp.columns[5:])"
   ]
  },
  {
   "cell_type": "code",
   "execution_count": null,
   "id": "b38fdd7c-629c-4bb5-ae78-a9d64104feac",
   "metadata": {},
   "outputs": [],
   "source": [
    "dfInfRes"
   ]
  },
  {
   "cell_type": "code",
   "execution_count": null,
   "id": "59d7d22b-6a18-4433-b679-a59e45654651",
   "metadata": {},
   "outputs": [],
   "source": [
    "fig = px.scatter(dfInfRes, x=\"delta_x\", y=\"delta_y\")\n",
    "\n",
    "for i in range(6,12):\n",
    "    fig.add_scatter(x=dfInfRes[f\"out_root_pos_x_{i}\"], y=dfInfRes[f\"out_root_pos_y_{i}\"], mode=\"markers\", marker_symbol=\"x\")\n",
    "\n",
    "fig.update_traces(marker=dict(size=12,\n",
    "                              opacity=0.5,\n",
    "                              line=dict(width=2,\n",
    "                                        color='DarkSlateGrey')),\n",
    "                  selector=dict(mode='markers'))\n",
    "fig.update_layout(\n",
    "    width = 800,\n",
    "    height = 800,\n",
    "    title = \"fixed-ratio axes\"\n",
    ")\n",
    "fig.update_yaxes(\n",
    "    scaleanchor = \"x\",\n",
    "    scaleratio = 1,\n",
    "  )\n",
    "\n",
    "fig.show()"
   ]
  },
  {
   "cell_type": "code",
   "execution_count": null,
   "id": "e0dd77c6-552b-4cad-8007-f7cdffb19177",
   "metadata": {},
   "outputs": [],
   "source": [
    "x_columns = dfInfRes.filter(like=\"out_jpos_x_\").values\n",
    "y_columns = dfInfRes.filter(like=\"out_jpos_y_\").values\n",
    "z_columns = dfInfRes.filter(like=\"out_jpos_z_\").values\n",
    "\n",
    "# Flatten the arrays if needed\n",
    "x_array = x_columns.flatten()\n",
    "y_array = y_columns.flatten()\n",
    "z_array = z_columns.flatten()"
   ]
  },
  {
   "cell_type": "code",
   "execution_count": null,
   "id": "69a36c74-f0d2-46af-acd0-eacd1a78d25e",
   "metadata": {},
   "outputs": [],
   "source": [
    "inx = IN.iloc[17000].filter(like=\"jpos_x_\").values.flatten()\n",
    "iny = IN.iloc[17000].filter(like=\"jpos_y_\").values.flatten()\n",
    "inz = IN.iloc[17000].filter(like=\"jpos_z_\").values.flatten()\n"
   ]
  },
  {
   "cell_type": "code",
   "execution_count": null,
   "id": "b9a85a66-2ca8-4fdc-9147-2401ecf2c96e",
   "metadata": {},
   "outputs": [],
   "source": [
    "scatter_data = pd.DataFrame({'X': x_array, 'Y': y_array, 'Z': z_array})\n",
    "\n",
    "\n",
    "max_range = max(scatter_data[['X', 'Y', 'Z']].max())\n",
    "min_range = min(scatter_data[['X', 'Y', 'Z']].min())\n",
    "\n",
    "fig = px.scatter_3d(scatter_data, x='X', y='Z', z='Y', title='Out Joint Positions', labels={'X': 'X Values', 'Y': 'Y Values', 'Z': 'Z Values'})\n",
    "fig.update_traces(name='Out Joint Positions', showlegend = True)\n",
    "fig.add_scatter3d(x=inx, y=inz, z=iny, mode=\"markers\", name='In Joint Positions')\n",
    "\n",
    "fig.update_layout(scene=dict(aspectmode=\"cube\", xaxis=dict(range=[min_range, max_range]), yaxis=dict(range=[min_range, max_range]), zaxis=dict(range=[min_range, max_range])))\n",
    "\n",
    "fig.update_layout(\n",
    "    width = 800,\n",
    "    height = 800,\n",
    "    title = \"Joint Position In & Out (Next Frame)\"\n",
    ")\n",
    "fig.show()"
   ]
  },
  {
   "cell_type": "code",
   "execution_count": null,
   "id": "de6eb37d-28be-4081-8742-6303332d43b3",
   "metadata": {},
   "outputs": [],
   "source": [
    "fig.write_html(\"file.html\", include_plotlyjs=False)"
   ]
  },
  {
   "cell_type": "code",
   "execution_count": null,
   "id": "ab3dbe47-bb0a-47ce-a95a-5505e1b47f12",
   "metadata": {},
   "outputs": [],
   "source": []
  }
 ],
 "metadata": {
  "kernelspec": {
   "display_name": "Python 3 (ipykernel)",
   "language": "python",
   "name": "python3"
  },
  "language_info": {
   "codemirror_mode": {
    "name": "ipython",
    "version": 3
   },
   "file_extension": ".py",
   "mimetype": "text/x-python",
   "name": "python",
   "nbconvert_exporter": "python",
   "pygments_lexer": "ipython3",
   "version": "3.10.12"
  }
 },
 "nbformat": 4,
 "nbformat_minor": 5
}
