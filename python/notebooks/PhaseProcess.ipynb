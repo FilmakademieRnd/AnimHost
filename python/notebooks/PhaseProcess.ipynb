{
 "cells": [
  {
   "cell_type": "markdown",
   "id": "c8ae14f9-a4a8-427a-8f2d-c9135a064cf3",
   "metadata": {},
   "source": [
    "# Process Data"
   ]
  },
  {
   "cell_type": "code",
   "execution_count": null,
   "id": "550e867e-acd2-4a63-80df-c29a47413625",
   "metadata": {},
   "outputs": [],
   "source": [
    "import numpy as np\n",
    "import pandas as pd\n",
    "import struct\n",
    "import array\n",
    "import plotly.express as px\n",
    "import plotly.graph_objects as go\n",
    "import math\n",
    "import time"
   ]
  },
  {
   "cell_type": "code",
   "execution_count": null,
   "id": "2c3c4e05-856f-445b-ac3a-7e200dedd1b8",
   "metadata": {},
   "outputs": [],
   "source": [
    "import onnx"
   ]
  },
  {
   "cell_type": "code",
   "execution_count": null,
   "id": "870dbad1-0070-4382-990e-36685d20d9a9",
   "metadata": {},
   "outputs": [],
   "source": [
    "import onnxruntime"
   ]
  },
  {
   "cell_type": "code",
   "execution_count": null,
   "id": "f44fd104-4feb-4b1e-808a-b6a24f12b156",
   "metadata": {},
   "outputs": [],
   "source": [
    "from MotionPreprocessing import MotionProcessor, read_csv_style_data, read_csv_data, ReadBinary,FrameRange"
   ]
  },
  {
   "cell_type": "code",
   "execution_count": null,
   "id": "f122fd1b-6196-4bfa-bd33-900c82de105f",
   "metadata": {},
   "outputs": [],
   "source": [
    "pd.options.display.max_columns = None"
   ]
  },
  {
   "cell_type": "code",
   "execution_count": null,
   "id": "938eaecb-f4e2-4686-8ef0-c37e0d978d4a",
   "metadata": {},
   "outputs": [],
   "source": [
    "NUM_PHASE_CHANNEL = 5"
   ]
  },
  {
   "cell_type": "code",
   "execution_count": null,
   "id": "c03c4f39-fd94-412b-8b9a-f0f96a816f38",
   "metadata": {},
   "outputs": [],
   "source": [
    "IN_FEATURES = 475\n",
    "NUM_SAMPLES = 28349"
   ]
  },
  {
   "cell_type": "code",
   "execution_count": null,
   "id": "b218fb57-0086-4922-b691-64d33d87df96",
   "metadata": {},
   "outputs": [],
   "source": [
    "mp = MotionProcessor()\n",
    "dfInputDataExp = mp.input_preprocessing()"
   ]
  },
  {
   "cell_type": "code",
   "execution_count": null,
   "id": "8171268f-df96-4ec5-8be4-be61a1449980",
   "metadata": {},
   "outputs": [],
   "source": [
    "dfInputDataExp"
   ]
  },
  {
   "cell_type": "code",
   "execution_count": null,
   "id": "d076d85e-e4cc-44eb-b405-740b53d6c1f5",
   "metadata": {
    "scrolled": true
   },
   "outputs": [],
   "source": [
    "fig = go.Figure()\n",
    "\n",
    "# Extract columns that start with 'PhaseSpace-'\n",
    "phasespace_columns = [col for col in dfInputDataExp.columns if col.startswith('PhaseSpace-')]\n",
    "# Filter even and odd indices based on numerical part of column names\n",
    "even_indices = [col for col in phasespace_columns if int(col.split('-')[-1]) % 2 == 0]\n",
    "odd_indices = [col for col in phasespace_columns if int(col.split('-')[-1]) % 2 != 0]\n",
    "\n",
    "colors = ['red', 'green', 'blue', 'orange', 'purple']\n",
    "\n",
    "for step in range(100):\n",
    "    row = dfInputDataExp.iloc[step]\n",
    "    \n",
    "    # Extract values based on even and odd indices\n",
    "    p_y = row[even_indices].values.flatten()\n",
    "    p_x = row[odd_indices].values.flatten()\n",
    "\n",
    "    # Assign colors to each point, cycling through the colors list every 5 points\n",
    "    marker_colors = [colors[i % len(colors)] for i in range(len(p_x))]\n",
    "\n",
    "    fig.add_trace(\n",
    "            go.Scatter(\n",
    "                visible=False,\n",
    "                mode='markers',\n",
    "                name=\"𝜈 = \" + str(step),\n",
    "                x=p_x,\n",
    "                y=p_y,\n",
    "                marker=dict(color=marker_colors)  # Set marker colors\n",
    "            ))\n",
    "    \n",
    "fig.data[0].visible = True\n",
    "\n",
    "steps = []\n",
    "for i in range(len(fig.data)):\n",
    "    step = dict(\n",
    "        method=\"update\",\n",
    "        args=[{\"visible\": [False] * len(fig.data)},\n",
    "              {\"title\": \"Step: \" + str(i)}],  # layout attribute\n",
    "    )\n",
    "    step[\"args\"][0][\"visible\"][i] = True  # Toggle i'th trace to \"visible\"\n",
    "    steps.append(step)\n",
    "\n",
    "sliders = [dict(\n",
    "    active=10,\n",
    "    steps=steps\n",
    ")]\n",
    "\n",
    "fig.update_layout(\n",
    "    sliders=sliders\n",
    ")\n",
    "fig.update_scenes(aspectmode='cube',aspectratio=dict(x=1, y=1))\n",
    "\n",
    "fig.update_layout(\n",
    "    title = \"2D Phase Vector (12 Frame Window)\",\n",
    "    xaxis=dict(range=[-5, 5]), \n",
    "    yaxis=dict(range=[-5, 5]),  \n",
    "    autosize=False,\n",
    "    width=500,\n",
    "    height=600,\n",
    "    margin=dict(\n",
    "        l=50,\n",
    "        r=50,\n",
    "        b=100,\n",
    "        t=100,\n",
    "        pad=4\n",
    "    ),\n",
    ")\n",
    "\n",
    "fig.show()"
   ]
  },
  {
   "cell_type": "code",
   "execution_count": null,
   "id": "a53a101f-9794-4d41-bea5-f6f8fc3f79a9",
   "metadata": {},
   "outputs": [],
   "source": [
    "fig.write_html(\"file_phase.html\", include_plotlyjs=False)"
   ]
  },
  {
   "cell_type": "markdown",
   "id": "c39a0421-f265-455a-8d71-f9f5ebd6a19c",
   "metadata": {},
   "source": [
    "### Build Output Features"
   ]
  },
  {
   "cell_type": "code",
   "execution_count": null,
   "id": "9f99f8f0-c475-420e-9ac0-11d402a76506",
   "metadata": {},
   "outputs": [],
   "source": [
    "OUT_FEATURES = 436"
   ]
  },
  {
   "cell_type": "code",
   "execution_count": null,
   "id": "babd4f5c-8a69-4396-b0dc-1b48541e3522",
   "metadata": {},
   "outputs": [],
   "source": [
    "dfOutDataExp = mp.output_preprocessing()"
   ]
  },
  {
   "cell_type": "code",
   "execution_count": null,
   "id": "73bc4a65-1cd6-4964-b361-9d54dc803c38",
   "metadata": {},
   "outputs": [],
   "source": [
    "dfOutDataExp"
   ]
  },
  {
   "cell_type": "code",
   "execution_count": null,
   "id": "e518f6a4-645c-45cc-80e9-adb12b228b2c",
   "metadata": {},
   "outputs": [],
   "source": [
    "sequence = dfOutDataExp.xs(key=3, level=\"SeqId\")"
   ]
  },
  {
   "cell_type": "code",
   "execution_count": null,
   "id": "ef7ba556-8ce6-42d2-8a43-f4b3b1736775",
   "metadata": {},
   "outputs": [],
   "source": [
    "sequence"
   ]
  },
  {
   "cell_type": "code",
   "execution_count": null,
   "id": "d414878c-7f6f-471f-8a58-dd193c219ff3",
   "metadata": {},
   "outputs": [],
   "source": [
    "px.scatter(sequence, x=\"delta_x\", y=\"delta_y\")"
   ]
  },
  {
   "cell_type": "code",
   "execution_count": null,
   "id": "f338046f-b99e-41c6-a3cb-17121b5cb6c2",
   "metadata": {},
   "outputs": [],
   "source": [
    "def translation_matrix(dx, dy, dz):\n",
    "    \"\"\"Create a 4x4 translation matrix.\"\"\"\n",
    "    return np.array([\n",
    "        [1, 0, 0, dx],\n",
    "        [0, 1, 0, dy],\n",
    "        [0, 0, 1, dz],\n",
    "        [0, 0, 0, 1]\n",
    "    ])\n",
    "\n",
    "def rotation_matrix_y(theta):\n",
    "    \"\"\"Create a 4x4 rotation matrix around the Y-axis.\"\"\"\n",
    "    cos_theta = np.cos(theta)\n",
    "    sin_theta = np.sin(theta)\n",
    "    return np.array([\n",
    "        [cos_theta, 0, sin_theta, 0],\n",
    "        [0, 1, 0, 0],\n",
    "        [-sin_theta, 0, cos_theta, 0],\n",
    "        [0, 0, 0, 1]\n",
    "    ])"
   ]
  },
  {
   "cell_type": "code",
   "execution_count": null,
   "id": "bd2a265f-dd73-4690-9710-1436124c47c1",
   "metadata": {},
   "outputs": [],
   "source": [
    "import matplotlib.pyplot as plt"
   ]
  },
  {
   "cell_type": "code",
   "execution_count": null,
   "id": "6e7eecde-7178-4879-80c6-7f159018e89d",
   "metadata": {},
   "outputs": [],
   "source": [
    "p_x =[]\n",
    "p_y =[]\n",
    "\n",
    "root = np.eye(4)\n",
    "origin = [0.0,0.0,0.0,1.0]\n",
    "\n",
    "position = [0,0,0,1]\n",
    "for index, row in sequence.iterrows():\n",
    "    #, y = rotate_vector(row.delta_x, row.delta_y, angle)\n",
    "    t_mat = translation_matrix(row.delta_x, 0.0, row.delta_y)\n",
    "    rot_mat = rotation_matrix_y(-row.delta_angle)\n",
    "    \n",
    "    tout =  rot_mat @ t_mat \n",
    "    \n",
    "    root =  root @ tout\n",
    "\n",
    "    pos = root @ origin\n",
    "    \n",
    "    p_x.append(pos[0])\n",
    "    p_y.append(pos[2])\n",
    "\n",
    "# Create the plot with Plotly\n",
    "fig = go.Figure()\n",
    "\n",
    "fig.add_trace(go.Scatter(x=p_x, y=p_y, mode='markers', name='Position'))\n",
    "\n",
    "# Set the aspect ratio and axis ranges\n",
    "\n",
    "\n",
    "fig.update_layout(\n",
    "\n",
    "    xaxis=dict(range=[-800, 100]), \n",
    "    yaxis=dict(range=[-200, 700]),  \n",
    "    autosize=False,\n",
    "    width=600,\n",
    "    height=700,\n",
    "    margin=dict(\n",
    "        l=50,\n",
    "        r=50,\n",
    "        b=100,\n",
    "        t=100,\n",
    "        pad=4\n",
    "    ),\n",
    ")\n",
    "#fig.update_xaxes(constrain='domain')  \n",
    "#fig.update_yaxes(scaleanchor= 'x')\n",
    "#fig['layout'].update(scene=dict(aspectmode=\"data\"))\n",
    "\n",
    "fig.show()"
   ]
  },
  {
   "cell_type": "markdown",
   "id": "e0bd3c19-7488-413d-8da7-6c694dff2765",
   "metadata": {},
   "source": [
    "## Export Data"
   ]
  },
  {
   "cell_type": "code",
   "execution_count": null,
   "id": "0c118c84-0262-4958-94a4-b5c474747b52",
   "metadata": {},
   "outputs": [],
   "source": [
    "mp.export_data()"
   ]
  },
  {
   "cell_type": "code",
   "execution_count": null,
   "id": "57841b52-8e88-466e-955a-cb348bad67d0",
   "metadata": {},
   "outputs": [],
   "source": [
    "test = mp.OutputData.iloc[200]"
   ]
  },
  {
   "cell_type": "code",
   "execution_count": null,
   "id": "3a19ffb1-bee8-4b88-9d8f-f62117a335e2",
   "metadata": {
    "scrolled": true
   },
   "outputs": [],
   "source": [
    "fig = go.Figure()\n",
    "\n",
    "# Extract columns that start with 'PhaseSpace-'\n",
    "#phasespace_columns = [col for col in dfInputDataExp.columns if col.startswith('root_pos')]\n",
    "phasespace_columns = [col for col in sequence.columns if 'root_pos' in col]\n",
    "# Filter even and odd indices based on numerical part of column names\n",
    "even_indices = [col for col in phasespace_columns if \"y\" in col]\n",
    "odd_indices = [col for col in phasespace_columns if \"x\" in col]\n",
    "\n",
    "for step in range(300):\n",
    "    #row = dfInputDataExp.iloc[step]\n",
    "    row = sequence.iloc[step]\n",
    "    \n",
    "    # Extract values based on even and odd indices\n",
    "    p_y = row[even_indices].values.flatten()\n",
    "    p_x = row[odd_indices].values.flatten()\n",
    "\n",
    "    fig.add_trace(\n",
    "            go.Scatter(\n",
    "                visible=False,\n",
    "                mode='markers',\n",
    "                name=\"𝜈 = \" + str(step),\n",
    "                x=p_x,\n",
    "                y=p_y))\n",
    "    \n",
    "fig.data[0].visible = True\n",
    "\n",
    "steps = []\n",
    "for i in range(len(fig.data)):\n",
    "    step = dict(\n",
    "        method=\"update\",\n",
    "        args=[{\"visible\": [False] * len(fig.data)},\n",
    "              {\"title\": \"Step: \" + str(i)}],  # layout attribute\n",
    "    )\n",
    "    step[\"args\"][0][\"visible\"][i] = True  # Toggle i'th trace to \"visible\"\n",
    "    steps.append(step)\n",
    "\n",
    "sliders = [dict(\n",
    "    active=10,\n",
    "    steps=steps\n",
    ")]\n",
    "\n",
    "fig.update_layout(\n",
    "    sliders=sliders\n",
    ")\n",
    "fig.update_scenes(aspectmode='cube',aspectratio=dict(x=1, y=1))\n",
    "\n",
    "fig.update_layout(\n",
    "    title = \"2D Phase Vector (12 Frame Window)\",\n",
    "    xaxis=dict(range=[-300, 300]), \n",
    "    yaxis=dict(range=[-300, 300]),  \n",
    "    autosize=False,\n",
    "    width=500,\n",
    "    height=600,\n",
    "    margin=dict(\n",
    "        l=50,\n",
    "        r=50,\n",
    "        b=100,\n",
    "        t=100,\n",
    "        pad=4\n",
    "    ),\n",
    ")\n",
    "\n",
    "fig.show()"
   ]
  },
  {
   "cell_type": "markdown",
   "id": "931402fa-7f30-4ab3-aa0b-3ed1b1574894",
   "metadata": {},
   "source": [
    "## Inference"
   ]
  },
  {
   "cell_type": "code",
   "execution_count": null,
   "id": "558356f2-491a-4ae2-bdc0-0e2d27ffc9e7",
   "metadata": {},
   "outputs": [],
   "source": [
    "model_path = r\"C:\\DEV\\AI4Animation\\AI4Animation\\SIGGRAPH_2022\\PyTorch\\GNN\\Training\\144.onnx\""
   ]
  },
  {
   "cell_type": "code",
   "execution_count": null,
   "id": "be788d1e-cffc-46bd-ba82-29606c51dcf1",
   "metadata": {},
   "outputs": [],
   "source": [
    "#onnx setup\n",
    "session = onnxruntime.InferenceSession(model_path)\n",
    "inputs = session.get_inputs()\n",
    "outputs = session.get_outputs()"
   ]
  },
  {
   "cell_type": "code",
   "execution_count": null,
   "id": "47b549c0-03d2-4f5f-868a-ebba9c56d698",
   "metadata": {},
   "outputs": [],
   "source": [
    "# Check network input and output dimensions\n",
    "[print(f\"{n.name}, {n.shape}\") for n in inputs]\n",
    "[print(f\"{n.name}, {n.shape}\") for n in outputs]"
   ]
  },
  {
   "cell_type": "code",
   "execution_count": null,
   "id": "f46af264-7bdc-42a2-b354-e54c9b380795",
   "metadata": {},
   "outputs": [],
   "source": [
    "# Load previously created input binary\n",
    "test_in = ReadBinary(r\"C:\\DEV\\AnimHost\\python\\data\\Input.bin\", 600, 605)\n",
    "df_inference_input = pd.DataFrame(test_in, columns=mp.get_raw_input_columns())\n",
    "x_in = df_inference_input.iloc[500].to_numpy(dtype=np.float32).reshape(1,-1)"
   ]
  },
  {
   "cell_type": "code",
   "execution_count": null,
   "id": "a901bd05-4487-444c-939a-eb09b758f373",
   "metadata": {},
   "outputs": [],
   "source": [
    "# Load previously created output binary\n",
    "y_groundtruth =  ReadBinary(r\"C:\\DEV\\AnimHost\\python\\data\\Output.bin\", 600, 576)\n",
    "df_groundtruth = pd.DataFrame(y_groundtruth, columns=mp.get_raw_output_columns())"
   ]
  },
  {
   "cell_type": "code",
   "execution_count": null,
   "id": "7f89635d-e13b-413f-a619-cc5ca258f2c4",
   "metadata": {},
   "outputs": [],
   "source": [
    "# Time before code execution\n",
    "start_time = time.time()\n",
    "\n",
    "\n",
    "result = session.run([\"Y\",\"W\"], {\"X\" : x_in})\n",
    "\n",
    "# Time after code execution\n",
    "end_time = time.time()\n",
    "delta_time = end_time - start_time\n",
    "print(f\"Code execution took {delta_time:.4f} seconds.\")"
   ]
  },
  {
   "cell_type": "code",
   "execution_count": null,
   "id": "07983813-2fa7-459b-8792-7949f35c4d41",
   "metadata": {},
   "outputs": [],
   "source": [
    "mp.get_raw_output_columns()"
   ]
  },
  {
   "cell_type": "code",
   "execution_count": null,
   "id": "be007a6e-a836-411f-8fc0-97ef3c6ce724",
   "metadata": {},
   "outputs": [],
   "source": [
    "df_inference_output =  pd.DataFrame(result[0], columns=mp.get_raw_output_columns())"
   ]
  },
  {
   "cell_type": "code",
   "execution_count": null,
   "id": "59d7d22b-6a18-4433-b679-a59e45654651",
   "metadata": {},
   "outputs": [],
   "source": [
    "row_to_plot = df_inference_output.loc[[0]] \n",
    "\n",
    "fig = px.scatter(x=row_to_plot[\"delta_x\"], y=row_to_plot[\"delta_y\"])\n",
    "\n",
    "\n",
    "\n",
    "for i in range(6,12):\n",
    "    fig.add_scatter(x=row_to_plot[f\"out_root_pos_x_{i}\"], y=row_to_plot[f\"out_root_pos_y_{i}\"], mode=\"markers\", marker_symbol=\"x\")\n",
    "\n",
    "fig.update_traces(marker=dict(size=12,\n",
    "                              opacity=0.5,\n",
    "                              line=dict(width=2,\n",
    "                                        color='DarkSlateGrey')),\n",
    "                  selector=dict(mode='markers'))\n",
    "fig.update_layout(\n",
    "    width = 800,\n",
    "    height = 800,\n",
    "    title = \"fixed-ratio axes\"\n",
    ")\n",
    "fig.update_yaxes(\n",
    "    scaleanchor = \"x\",\n",
    "    scaleratio = 1,\n",
    "  )\n",
    "\n",
    "fig.show()"
   ]
  },
  {
   "cell_type": "code",
   "execution_count": null,
   "id": "e0dd77c6-552b-4cad-8007-f7cdffb19177",
   "metadata": {},
   "outputs": [],
   "source": [
    "x_columns = df_inference_output.filter(like=\"out_jpos_x_\").values\n",
    "y_columns = df_inference_output.filter(like=\"out_jpos_y_\").values\n",
    "z_columns = df_inference_output.filter(like=\"out_jpos_z_\").values\n",
    "\n",
    "# Flatten the arrays if needed\n",
    "x_array = x_columns.flatten()\n",
    "y_array = y_columns.flatten()\n",
    "z_array = z_columns.flatten()"
   ]
  },
  {
   "cell_type": "code",
   "execution_count": null,
   "id": "69a36c74-f0d2-46af-acd0-eacd1a78d25e",
   "metadata": {},
   "outputs": [],
   "source": [
    "inx = df_inference_input.iloc[0].filter(like=\"jpos_x_\").values.flatten()\n",
    "iny = df_inference_input.iloc[0].filter(like=\"jpos_y_\").values.flatten()\n",
    "inz = df_inference_input.iloc[0].filter(like=\"jpos_z_\").values.flatten()\n"
   ]
  },
  {
   "cell_type": "code",
   "execution_count": null,
   "id": "b9a85a66-2ca8-4fdc-9147-2401ecf2c96e",
   "metadata": {},
   "outputs": [],
   "source": [
    "scatter_data = pd.DataFrame({'X': x_array, 'Y': y_array, 'Z': z_array})\n",
    "\n",
    "\n",
    "max_range = max(scatter_data[['X', 'Y', 'Z']].max())\n",
    "min_range = min(scatter_data[['X', 'Y', 'Z']].min())\n",
    "\n",
    "fig = px.scatter_3d(scatter_data, x='X', y='Z', z='Y', title='Out Joint Positions', labels={'X': 'X Values', 'Y': 'Y Values', 'Z': 'Z Values'})\n",
    "fig.update_traces(name='Out Joint Positions', showlegend = True)\n",
    "fig.add_scatter3d(x=inx, y=inz, z=iny, mode=\"markers\", name='In Joint Positions')\n",
    "\n",
    "fig.update_layout(scene=dict(aspectmode=\"cube\", xaxis=dict(range=[min_range, max_range]), yaxis=dict(range=[min_range, max_range]), zaxis=dict(range=[min_range, max_range])))\n",
    "\n",
    "fig.update_layout(\n",
    "    width = 800,\n",
    "    height = 800,\n",
    "    title = \"Joint Position In & Out (Next Frame)\"\n",
    ")\n",
    "fig.update_traces(marker_size = 3)\n",
    "fig.show()"
   ]
  },
  {
   "cell_type": "code",
   "execution_count": null,
   "id": "5f05c7f1-e3aa-4a5b-9a28-5926c403e7f4",
   "metadata": {},
   "outputs": [],
   "source": [
    "x_columns = df_inference_output.filter(like=\"out_jrot_0_\").values\n",
    "y_columns = df_inference_output.filter(like=\"out_jrot_1_\").values\n",
    "z_columns = df_inference_output.filter(like=\"out_jrot_2_\").values\n",
    "\n",
    "# Flatten the arrays if needed\n",
    "x_array = x_columns.flatten()\n",
    "y_array = y_columns.flatten()\n",
    "z_array = z_columns.flatten()\n",
    "\n",
    "inx = df_inference_input.iloc[0].filter(like=\"jrot_0_\").values.flatten()\n",
    "iny = df_inference_input.iloc[0].filter(like=\"jrot_1_\").values.flatten()\n",
    "inz = df_inference_input.iloc[0].filter(like=\"jrot_2_\").values.flatten()\n",
    "\n",
    "\n",
    "\n",
    "scatter_data = pd.DataFrame({'X': x_array, 'Y': y_array, 'Z': z_array})\n",
    "\n",
    "\n",
    "max_range = max(scatter_data[['X', 'Y', 'Z']].max())\n",
    "min_range = min(scatter_data[['X', 'Y', 'Z']].min())\n",
    "\n",
    "fig = px.scatter_3d(scatter_data, x='X', y='Z', z='Y', title='Out Joint Positions', labels={'X': 'X Values', 'Y': 'Y Values', 'Z': 'Z Values'})\n",
    "fig.update_traces(name='Out Joint Positions', showlegend = True)\n",
    "fig.add_scatter3d(x=inx, y=inz, z=iny, mode=\"markers\", name='In Joint Positions')\n",
    "\n",
    "#fig.update_layout(scene=dict(aspectmode=\"cube\", xaxis=dict(range=[min_range, max_range]), yaxis=dict(range=[min_range, max_range]), zaxis=dict(range=[min_range, max_range])))\n",
    "\n",
    "fig.update_layout(\n",
    "    width = 800,\n",
    "    height = 800,\n",
    "    title = \"Joint Position In & Out (Next Frame)\"\n",
    ")\n",
    "\n",
    "fig.update_traces(marker_size = 3)\n",
    "fig.show()"
   ]
  },
  {
   "cell_type": "code",
   "execution_count": null,
   "id": "86b55412-9a30-437c-bbff-e827b68c1345",
   "metadata": {},
   "outputs": [],
   "source": []
  }
 ],
 "metadata": {
  "kernelspec": {
   "display_name": "Python 3 (ipykernel)",
   "language": "python",
   "name": "python3"
  },
  "language_info": {
   "codemirror_mode": {
    "name": "ipython",
    "version": 3
   },
   "file_extension": ".py",
   "mimetype": "text/x-python",
   "name": "python",
   "nbconvert_exporter": "python",
   "pygments_lexer": "ipython3",
   "version": "3.10.12"
  }
 },
 "nbformat": 4,
 "nbformat_minor": 5
}
