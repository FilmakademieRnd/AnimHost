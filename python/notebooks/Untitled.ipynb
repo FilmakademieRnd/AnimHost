{
 "cells": [
  {
   "cell_type": "code",
   "execution_count": 10,
   "id": "4b90759c-c206-42ff-bcf7-378c7c8f8c4d",
   "metadata": {},
   "outputs": [
    {
     "data": {
      "application/vnd.jupyter.widget-view+json": {
       "model_id": "ff8f7cd8bd5c4de9813155990b6c25e7",
       "version_major": 2,
       "version_minor": 0
      },
      "text/plain": [
       "interactive(children=(FloatSlider(value=0.5, description='Control', max=1.0, step=0.01), Output()), _dom_class…"
      ]
     },
     "metadata": {},
     "output_type": "display_data"
    },
    {
     "data": {
      "text/plain": [
       "<function __main__.update_plot(linear_control)>"
      ]
     },
     "execution_count": 10,
     "metadata": {},
     "output_type": "execute_result"
    }
   ],
   "source": [
    "import plotly.graph_objects as go\n",
    "import numpy as np\n",
    "import ipywidgets as widgets\n",
    "from ipywidgets import interact\n",
    "\n",
    "# Function to compute weights based on tau\n",
    "def compute_weights(tau, num_samples=60):\n",
    "    weights = []\n",
    "    for i in range(num_samples):\n",
    "        x = i / num_samples\n",
    "        if tau >= 1:\n",
    "            # Original function for tau >= 1\n",
    "            weight = x**tau\n",
    "        else:\n",
    "            # Asymptotic function for tau < 1\n",
    "            weight = 1 - (1 - x)**(1 / tau)\n",
    "        weights.append(weight)\n",
    "    return weights\n",
    "\n",
    "\n",
    "# Function to map alpha to tau\n",
    "def map_alpha_to_tau(alpha, max_tau=7.50):\n",
    "    # Using an exponential mapping to make the influence of alpha more linear\n",
    "    min_tau = 1.0 / max_tau\n",
    "    tau = min_tau * (max_tau / min_tau) ** alpha\n",
    "    return tau\n",
    "\n",
    "# Interactive plot function\n",
    "def update_plot(linear_control):\n",
    "    # Map linear control to tau\n",
    "    tau = map_alpha_to_tau(linear_control)\n",
    "    \n",
    "    # Compute weights\n",
    "    num_samples = 60\n",
    "    weights = compute_weights(tau, num_samples)\n",
    "    \n",
    "    # Plot\n",
    "    fig = go.Figure()\n",
    "    fig.add_trace(go.Scatter(x=list(range(num_samples)), y=weights, mode='lines+markers'))\n",
    "    fig.update_layout(\n",
    "        title=f\"Weights vs. Index (Linear Control={linear_control:.2f}, τ={tau:.2f})\",\n",
    "        xaxis_title=\"Index\",\n",
    "        yaxis_title=\"Weight\",\n",
    "        template=\"plotly_dark\",\n",
    "    )\n",
    "    fig.show()\n",
    "\n",
    "# Interactive widget\n",
    "interact(\n",
    "    update_plot,\n",
    "    linear_control=widgets.FloatSlider(value=0.5, min=0.0, max=1.0, step=0.01, description=\"Control\")\n",
    ")\n"
   ]
  },
  {
   "cell_type": "code",
   "execution_count": null,
   "id": "e80f1e66-4e57-4843-8d2c-dc7e4be83889",
   "metadata": {},
   "outputs": [],
   "source": []
  }
 ],
 "metadata": {
  "kernelspec": {
   "display_name": "Python 3 (ipykernel)",
   "language": "python",
   "name": "python3"
  },
  "language_info": {
   "codemirror_mode": {
    "name": "ipython",
    "version": 3
   },
   "file_extension": ".py",
   "mimetype": "text/x-python",
   "name": "python",
   "nbconvert_exporter": "python",
   "pygments_lexer": "ipython3",
   "version": "3.10.12"
  }
 },
 "nbformat": 4,
 "nbformat_minor": 5
}
